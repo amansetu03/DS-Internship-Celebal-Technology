{
 "cells": [
  {
   "cell_type": "code",
   "execution_count": 262,
   "metadata": {},
   "outputs": [],
   "source": [
    "import pandas as pd"
   ]
  },
  {
   "cell_type": "code",
   "execution_count": 263,
   "metadata": {},
   "outputs": [
    {
     "data": {
      "text/html": [
       "<div>\n",
       "<style scoped>\n",
       "    .dataframe tbody tr th:only-of-type {\n",
       "        vertical-align: middle;\n",
       "    }\n",
       "\n",
       "    .dataframe tbody tr th {\n",
       "        vertical-align: top;\n",
       "    }\n",
       "\n",
       "    .dataframe thead th {\n",
       "        text-align: right;\n",
       "    }\n",
       "</style>\n",
       "<table border=\"1\" class=\"dataframe\">\n",
       "  <thead>\n",
       "    <tr style=\"text-align: right;\">\n",
       "      <th></th>\n",
       "      <th>age</th>\n",
       "      <th>sex</th>\n",
       "      <th>cp</th>\n",
       "      <th>trestbps</th>\n",
       "      <th>chol</th>\n",
       "      <th>fbs</th>\n",
       "      <th>restecg</th>\n",
       "      <th>thalach</th>\n",
       "      <th>exang</th>\n",
       "      <th>oldpeak</th>\n",
       "      <th>slope</th>\n",
       "      <th>ca</th>\n",
       "      <th>thal</th>\n",
       "      <th>target</th>\n",
       "    </tr>\n",
       "  </thead>\n",
       "  <tbody>\n",
       "    <tr>\n",
       "      <th>0</th>\n",
       "      <td>52</td>\n",
       "      <td>1</td>\n",
       "      <td>0</td>\n",
       "      <td>125</td>\n",
       "      <td>212</td>\n",
       "      <td>0</td>\n",
       "      <td>1</td>\n",
       "      <td>168</td>\n",
       "      <td>0</td>\n",
       "      <td>1.0</td>\n",
       "      <td>2</td>\n",
       "      <td>2</td>\n",
       "      <td>3</td>\n",
       "      <td>0</td>\n",
       "    </tr>\n",
       "    <tr>\n",
       "      <th>1</th>\n",
       "      <td>53</td>\n",
       "      <td>1</td>\n",
       "      <td>0</td>\n",
       "      <td>140</td>\n",
       "      <td>203</td>\n",
       "      <td>1</td>\n",
       "      <td>0</td>\n",
       "      <td>155</td>\n",
       "      <td>1</td>\n",
       "      <td>3.1</td>\n",
       "      <td>0</td>\n",
       "      <td>0</td>\n",
       "      <td>3</td>\n",
       "      <td>0</td>\n",
       "    </tr>\n",
       "    <tr>\n",
       "      <th>2</th>\n",
       "      <td>70</td>\n",
       "      <td>1</td>\n",
       "      <td>0</td>\n",
       "      <td>145</td>\n",
       "      <td>174</td>\n",
       "      <td>0</td>\n",
       "      <td>1</td>\n",
       "      <td>125</td>\n",
       "      <td>1</td>\n",
       "      <td>2.6</td>\n",
       "      <td>0</td>\n",
       "      <td>0</td>\n",
       "      <td>3</td>\n",
       "      <td>0</td>\n",
       "    </tr>\n",
       "    <tr>\n",
       "      <th>3</th>\n",
       "      <td>61</td>\n",
       "      <td>1</td>\n",
       "      <td>0</td>\n",
       "      <td>148</td>\n",
       "      <td>203</td>\n",
       "      <td>0</td>\n",
       "      <td>1</td>\n",
       "      <td>161</td>\n",
       "      <td>0</td>\n",
       "      <td>0.0</td>\n",
       "      <td>2</td>\n",
       "      <td>1</td>\n",
       "      <td>3</td>\n",
       "      <td>0</td>\n",
       "    </tr>\n",
       "    <tr>\n",
       "      <th>4</th>\n",
       "      <td>62</td>\n",
       "      <td>0</td>\n",
       "      <td>0</td>\n",
       "      <td>138</td>\n",
       "      <td>294</td>\n",
       "      <td>1</td>\n",
       "      <td>1</td>\n",
       "      <td>106</td>\n",
       "      <td>0</td>\n",
       "      <td>1.9</td>\n",
       "      <td>1</td>\n",
       "      <td>3</td>\n",
       "      <td>2</td>\n",
       "      <td>0</td>\n",
       "    </tr>\n",
       "  </tbody>\n",
       "</table>\n",
       "</div>"
      ],
      "text/plain": [
       "   age  sex  cp  trestbps  chol  fbs  restecg  thalach  exang  oldpeak  slope  \\\n",
       "0   52    1   0       125   212    0        1      168      0      1.0      2   \n",
       "1   53    1   0       140   203    1        0      155      1      3.1      0   \n",
       "2   70    1   0       145   174    0        1      125      1      2.6      0   \n",
       "3   61    1   0       148   203    0        1      161      0      0.0      2   \n",
       "4   62    0   0       138   294    1        1      106      0      1.9      1   \n",
       "\n",
       "   ca  thal  target  \n",
       "0   2     3       0  \n",
       "1   0     3       0  \n",
       "2   0     3       0  \n",
       "3   1     3       0  \n",
       "4   3     2       0  "
      ]
     },
     "execution_count": 263,
     "metadata": {},
     "output_type": "execute_result"
    }
   ],
   "source": [
    "df = pd.read_csv(\"Data/heart.csv\")\n",
    "df.head()"
   ]
  },
  {
   "cell_type": "code",
   "execution_count": 264,
   "metadata": {},
   "outputs": [
    {
     "data": {
      "text/plain": [
       "age         0\n",
       "sex         0\n",
       "cp          0\n",
       "trestbps    0\n",
       "chol        0\n",
       "fbs         0\n",
       "restecg     0\n",
       "thalach     0\n",
       "exang       0\n",
       "oldpeak     0\n",
       "slope       0\n",
       "ca          0\n",
       "thal        0\n",
       "target      0\n",
       "dtype: int64"
      ]
     },
     "execution_count": 264,
     "metadata": {},
     "output_type": "execute_result"
    }
   ],
   "source": [
    "df.isnull().sum()"
   ]
  },
  {
   "cell_type": "code",
   "execution_count": 265,
   "metadata": {},
   "outputs": [
    {
     "data": {
      "text/plain": [
       "(1025, 14)"
      ]
     },
     "execution_count": 265,
     "metadata": {},
     "output_type": "execute_result"
    }
   ],
   "source": [
    "df.shape"
   ]
  },
  {
   "cell_type": "code",
   "execution_count": 266,
   "metadata": {},
   "outputs": [],
   "source": [
    "df2 = df.drop_duplicates()\n"
   ]
  },
  {
   "cell_type": "code",
   "execution_count": 267,
   "metadata": {},
   "outputs": [
    {
     "data": {
      "text/plain": [
       "(302, 14)"
      ]
     },
     "execution_count": 267,
     "metadata": {},
     "output_type": "execute_result"
    }
   ],
   "source": [
    "df2.shape"
   ]
  },
  {
   "cell_type": "code",
   "execution_count": 268,
   "metadata": {},
   "outputs": [
    {
     "data": {
      "text/html": [
       "<div>\n",
       "<style scoped>\n",
       "    .dataframe tbody tr th:only-of-type {\n",
       "        vertical-align: middle;\n",
       "    }\n",
       "\n",
       "    .dataframe tbody tr th {\n",
       "        vertical-align: top;\n",
       "    }\n",
       "\n",
       "    .dataframe thead th {\n",
       "        text-align: right;\n",
       "    }\n",
       "</style>\n",
       "<table border=\"1\" class=\"dataframe\">\n",
       "  <thead>\n",
       "    <tr style=\"text-align: right;\">\n",
       "      <th></th>\n",
       "      <th>age</th>\n",
       "      <th>sex</th>\n",
       "      <th>cp</th>\n",
       "      <th>trestbps</th>\n",
       "      <th>chol</th>\n",
       "      <th>fbs</th>\n",
       "      <th>restecg</th>\n",
       "      <th>thalach</th>\n",
       "      <th>exang</th>\n",
       "      <th>oldpeak</th>\n",
       "      <th>slope</th>\n",
       "      <th>ca</th>\n",
       "      <th>thal</th>\n",
       "      <th>target</th>\n",
       "    </tr>\n",
       "  </thead>\n",
       "  <tbody>\n",
       "    <tr>\n",
       "      <th>0</th>\n",
       "      <td>52</td>\n",
       "      <td>1</td>\n",
       "      <td>0</td>\n",
       "      <td>125</td>\n",
       "      <td>212</td>\n",
       "      <td>0</td>\n",
       "      <td>1</td>\n",
       "      <td>168</td>\n",
       "      <td>0</td>\n",
       "      <td>1.0</td>\n",
       "      <td>2</td>\n",
       "      <td>2</td>\n",
       "      <td>3</td>\n",
       "      <td>0</td>\n",
       "    </tr>\n",
       "    <tr>\n",
       "      <th>1</th>\n",
       "      <td>53</td>\n",
       "      <td>1</td>\n",
       "      <td>0</td>\n",
       "      <td>140</td>\n",
       "      <td>203</td>\n",
       "      <td>1</td>\n",
       "      <td>0</td>\n",
       "      <td>155</td>\n",
       "      <td>1</td>\n",
       "      <td>3.1</td>\n",
       "      <td>0</td>\n",
       "      <td>0</td>\n",
       "      <td>3</td>\n",
       "      <td>0</td>\n",
       "    </tr>\n",
       "    <tr>\n",
       "      <th>2</th>\n",
       "      <td>70</td>\n",
       "      <td>1</td>\n",
       "      <td>0</td>\n",
       "      <td>145</td>\n",
       "      <td>174</td>\n",
       "      <td>0</td>\n",
       "      <td>1</td>\n",
       "      <td>125</td>\n",
       "      <td>1</td>\n",
       "      <td>2.6</td>\n",
       "      <td>0</td>\n",
       "      <td>0</td>\n",
       "      <td>3</td>\n",
       "      <td>0</td>\n",
       "    </tr>\n",
       "    <tr>\n",
       "      <th>3</th>\n",
       "      <td>61</td>\n",
       "      <td>1</td>\n",
       "      <td>0</td>\n",
       "      <td>148</td>\n",
       "      <td>203</td>\n",
       "      <td>0</td>\n",
       "      <td>1</td>\n",
       "      <td>161</td>\n",
       "      <td>0</td>\n",
       "      <td>0.0</td>\n",
       "      <td>2</td>\n",
       "      <td>1</td>\n",
       "      <td>3</td>\n",
       "      <td>0</td>\n",
       "    </tr>\n",
       "    <tr>\n",
       "      <th>4</th>\n",
       "      <td>62</td>\n",
       "      <td>0</td>\n",
       "      <td>0</td>\n",
       "      <td>138</td>\n",
       "      <td>294</td>\n",
       "      <td>1</td>\n",
       "      <td>1</td>\n",
       "      <td>106</td>\n",
       "      <td>0</td>\n",
       "      <td>1.9</td>\n",
       "      <td>1</td>\n",
       "      <td>3</td>\n",
       "      <td>2</td>\n",
       "      <td>0</td>\n",
       "    </tr>\n",
       "  </tbody>\n",
       "</table>\n",
       "</div>"
      ],
      "text/plain": [
       "   age  sex  cp  trestbps  chol  fbs  restecg  thalach  exang  oldpeak  slope  \\\n",
       "0   52    1   0       125   212    0        1      168      0      1.0      2   \n",
       "1   53    1   0       140   203    1        0      155      1      3.1      0   \n",
       "2   70    1   0       145   174    0        1      125      1      2.6      0   \n",
       "3   61    1   0       148   203    0        1      161      0      0.0      2   \n",
       "4   62    0   0       138   294    1        1      106      0      1.9      1   \n",
       "\n",
       "   ca  thal  target  \n",
       "0   2     3       0  \n",
       "1   0     3       0  \n",
       "2   0     3       0  \n",
       "3   1     3       0  \n",
       "4   3     2       0  "
      ]
     },
     "execution_count": 268,
     "metadata": {},
     "output_type": "execute_result"
    }
   ],
   "source": [
    "df2.head()"
   ]
  },
  {
   "cell_type": "markdown",
   "metadata": {},
   "source": [
    "### model building"
   ]
  },
  {
   "cell_type": "code",
   "execution_count": 269,
   "metadata": {},
   "outputs": [],
   "source": [
    "import tensorflow as tf\n",
    "from tensorflow import keras\n",
    "from tensorflow.keras.models import Sequential\n",
    "from sklearn.preprocessing import StandardScaler\n",
    "\n",
    "from tensorflow.keras.layers import Dense, Dropout, Activation, Conv1D, MaxPooling1D, Flatten, BatchNormalization\n",
    "from tensorflow.keras.callbacks import ModelCheckpoint\n",
    "from tensorflow.keras.callbacks import ReduceLROnPlateau\n",
    "from tensorflow.keras.utils import to_categorical\n",
    "from keras.optimizers import SGD\n",
    "\n",
    "from sklearn.model_selection import train_test_split\n",
    "\n"
   ]
  },
  {
   "cell_type": "code",
   "execution_count": 270,
   "metadata": {},
   "outputs": [
    {
     "name": "stdout",
     "output_type": "stream",
     "text": [
      "(302, 13) (302,)\n"
     ]
    }
   ],
   "source": [
    "X = df2.drop(\"target\",axis= 1)\n",
    "Y = df2[\"target\"]\n",
    "print(X.shape,Y.shape)"
   ]
  },
  {
   "cell_type": "code",
   "execution_count": 280,
   "metadata": {},
   "outputs": [
    {
     "name": "stdout",
     "output_type": "stream",
     "text": [
      "Shape of x_train:  (241, 13)\n",
      "Shape of x_valid:  (61, 13)\n",
      "Shape of y_train:  (241,)\n",
      "Shape of y_valid:  (61,)\n"
     ]
    }
   ],
   "source": [
    "x_train, x_test, y_train, y_test = train_test_split(X, Y, test_size = 0.2)\n",
    "\n",
    "print(\"Shape of x_train: \", x_train.shape)\n",
    "print(\"Shape of x_valid: \", x_test.shape)\n",
    "print(\"Shape of y_train: \", y_train.shape)\n",
    "print(\"Shape of y_valid: \", y_test.shape)"
   ]
  },
  {
   "cell_type": "code",
   "execution_count": 295,
   "metadata": {},
   "outputs": [],
   "source": [
    "scaler = StandardScaler()\n",
    "x_train = scaler.fit_transform(x_train)\n",
    "x_test = scaler.transform(x_test)"
   ]
  },
  {
   "cell_type": "code",
   "execution_count": null,
   "metadata": {},
   "outputs": [],
   "source": []
  },
  {
   "cell_type": "code",
   "execution_count": 296,
   "metadata": {},
   "outputs": [
    {
     "name": "stdout",
     "output_type": "stream",
     "text": [
      "Model: \"sequential_32\"\n",
      "_________________________________________________________________\n",
      " Layer (type)                Output Shape              Param #   \n",
      "=================================================================\n",
      " dense_123 (Dense)           (None, 1)                 14        \n",
      "                                                                 \n",
      " dense_124 (Dense)           (None, 1)                 2         \n",
      "                                                                 \n",
      "=================================================================\n",
      "Total params: 16 (64.00 Byte)\n",
      "Trainable params: 16 (64.00 Byte)\n"
     ]
    },
    {
     "name": "stdout",
     "output_type": "stream",
     "text": [
      "Non-trainable params: 0 (0.00 Byte)\n",
      "_________________________________________________________________\n"
     ]
    }
   ],
   "source": [
    "# model building\n",
    "model = Sequential()\n",
    "model.add(Dense(1, activation = 'relu', input_shape = (13, )))\n",
    "# model.add(Dense(8, activation='relu'))\n",
    "   \n",
    "model.add(Dense(1, activation='sigmoid'))\n",
    "\n",
    "model.summary()"
   ]
  },
  {
   "cell_type": "code",
   "execution_count": 297,
   "metadata": {},
   "outputs": [],
   "source": [
    "opt = keras.optimizers.Adam(learning_rate=0.001)\n",
    "model.compile(optimizer= opt ,loss='binary_crossentropy',metrics=['acc'])"
   ]
  },
  {
   "cell_type": "code",
   "execution_count": 298,
   "metadata": {},
   "outputs": [],
   "source": [
    "class myCallback(keras.callbacks.Callback):\n",
    "    def on_epoch_end(self, epoch, logs={}):\n",
    "        if(logs.get('val_loss')<0.1):\n",
    "            print(\"\\nReached 0.1 val_loss so cancelling training!\")\n",
    "            self.model.stop_training = True\n",
    "        \n",
    "callback = myCallback()"
   ]
  },
  {
   "cell_type": "code",
   "execution_count": 299,
   "metadata": {},
   "outputs": [
    {
     "name": "stdout",
     "output_type": "stream",
     "text": [
      "Epoch 1/50\n",
      "241/241 [==============================] - 1s 4ms/step - loss: 1.0076 - acc: 0.3942 - val_loss: 1.0593 - val_acc: 0.3934\n",
      "Epoch 2/50\n",
      "241/241 [==============================] - 1s 4ms/step - loss: 0.8653 - acc: 0.4647 - val_loss: 0.9063 - val_acc: 0.4918\n",
      "Epoch 3/50\n",
      "241/241 [==============================] - 1s 3ms/step - loss: 0.7738 - acc: 0.5353 - val_loss: 0.8001 - val_acc: 0.5574\n",
      "Epoch 4/50\n",
      "241/241 [==============================] - 1s 3ms/step - loss: 0.7134 - acc: 0.5892 - val_loss: 0.7323 - val_acc: 0.6066\n",
      "Epoch 5/50\n",
      "241/241 [==============================] - 1s 4ms/step - loss: 0.6732 - acc: 0.6432 - val_loss: 0.6895 - val_acc: 0.6557\n",
      "Epoch 6/50\n",
      "241/241 [==============================] - 1s 4ms/step - loss: 0.6441 - acc: 0.6722 - val_loss: 0.6585 - val_acc: 0.6393\n",
      "Epoch 7/50\n",
      "241/241 [==============================] - 1s 4ms/step - loss: 0.6238 - acc: 0.7012 - val_loss: 0.6271 - val_acc: 0.7049\n",
      "Epoch 8/50\n",
      "241/241 [==============================] - 1s 4ms/step - loss: 0.6047 - acc: 0.7220 - val_loss: 0.5996 - val_acc: 0.7377\n",
      "Epoch 9/50\n",
      "241/241 [==============================] - 1s 4ms/step - loss: 0.5852 - acc: 0.7303 - val_loss: 0.5746 - val_acc: 0.7541\n",
      "Epoch 10/50\n",
      "241/241 [==============================] - 1s 4ms/step - loss: 0.5635 - acc: 0.7469 - val_loss: 0.5538 - val_acc: 0.7541\n",
      "Epoch 11/50\n",
      "241/241 [==============================] - 1s 4ms/step - loss: 0.5451 - acc: 0.7842 - val_loss: 0.5367 - val_acc: 0.7541\n",
      "Epoch 12/50\n",
      "241/241 [==============================] - 1s 4ms/step - loss: 0.5302 - acc: 0.7759 - val_loss: 0.5215 - val_acc: 0.8033\n",
      "Epoch 13/50\n",
      "241/241 [==============================] - 1s 4ms/step - loss: 0.5176 - acc: 0.7801 - val_loss: 0.5086 - val_acc: 0.8033\n",
      "Epoch 14/50\n",
      "241/241 [==============================] - 1s 4ms/step - loss: 0.5081 - acc: 0.7801 - val_loss: 0.4963 - val_acc: 0.8361\n",
      "Epoch 15/50\n",
      "241/241 [==============================] - 1s 4ms/step - loss: 0.5002 - acc: 0.7842 - val_loss: 0.4867 - val_acc: 0.8361\n",
      "Epoch 16/50\n",
      "241/241 [==============================] - 1s 4ms/step - loss: 0.4937 - acc: 0.7884 - val_loss: 0.4780 - val_acc: 0.8361\n",
      "Epoch 17/50\n",
      "241/241 [==============================] - 1s 3ms/step - loss: 0.4873 - acc: 0.8008 - val_loss: 0.4699 - val_acc: 0.8361\n",
      "Epoch 18/50\n",
      "241/241 [==============================] - 1s 2ms/step - loss: 0.4822 - acc: 0.8008 - val_loss: 0.4622 - val_acc: 0.8361\n",
      "Epoch 19/50\n",
      "241/241 [==============================] - 1s 2ms/step - loss: 0.4777 - acc: 0.8050 - val_loss: 0.4572 - val_acc: 0.8361\n",
      "Epoch 20/50\n",
      "241/241 [==============================] - 1s 2ms/step - loss: 0.4736 - acc: 0.8008 - val_loss: 0.4513 - val_acc: 0.8361\n",
      "Epoch 21/50\n",
      "241/241 [==============================] - 0s 2ms/step - loss: 0.4702 - acc: 0.8008 - val_loss: 0.4457 - val_acc: 0.8033\n",
      "Epoch 22/50\n",
      "241/241 [==============================] - 1s 2ms/step - loss: 0.4667 - acc: 0.8008 - val_loss: 0.4411 - val_acc: 0.8033\n",
      "Epoch 23/50\n",
      "241/241 [==============================] - 1s 2ms/step - loss: 0.4636 - acc: 0.8091 - val_loss: 0.4390 - val_acc: 0.8033\n",
      "Epoch 24/50\n",
      "241/241 [==============================] - 1s 3ms/step - loss: 0.4600 - acc: 0.8091 - val_loss: 0.4351 - val_acc: 0.8197\n",
      "Epoch 25/50\n",
      "241/241 [==============================] - 1s 2ms/step - loss: 0.4574 - acc: 0.8133 - val_loss: 0.4306 - val_acc: 0.8361\n",
      "Epoch 26/50\n",
      "241/241 [==============================] - 1s 3ms/step - loss: 0.4542 - acc: 0.8133 - val_loss: 0.4280 - val_acc: 0.8361\n",
      "Epoch 27/50\n",
      "241/241 [==============================] - 1s 3ms/step - loss: 0.4507 - acc: 0.8091 - val_loss: 0.4253 - val_acc: 0.8361\n",
      "Epoch 28/50\n",
      "241/241 [==============================] - 1s 3ms/step - loss: 0.4453 - acc: 0.8091 - val_loss: 0.4232 - val_acc: 0.8361\n",
      "Epoch 29/50\n",
      "241/241 [==============================] - 1s 3ms/step - loss: 0.4391 - acc: 0.8174 - val_loss: 0.4190 - val_acc: 0.8361\n",
      "Epoch 30/50\n",
      "241/241 [==============================] - 1s 3ms/step - loss: 0.4342 - acc: 0.8174 - val_loss: 0.4170 - val_acc: 0.8361\n",
      "Epoch 31/50\n",
      "241/241 [==============================] - 1s 3ms/step - loss: 0.4291 - acc: 0.8257 - val_loss: 0.4164 - val_acc: 0.8525\n",
      "Epoch 32/50\n",
      "241/241 [==============================] - 1s 3ms/step - loss: 0.4244 - acc: 0.8340 - val_loss: 0.4141 - val_acc: 0.8525\n",
      "Epoch 33/50\n",
      "241/241 [==============================] - 1s 2ms/step - loss: 0.4201 - acc: 0.8423 - val_loss: 0.4131 - val_acc: 0.8525\n",
      "Epoch 34/50\n",
      "241/241 [==============================] - 1s 3ms/step - loss: 0.4157 - acc: 0.8423 - val_loss: 0.4124 - val_acc: 0.8525\n",
      "Epoch 35/50\n",
      "241/241 [==============================] - 1s 3ms/step - loss: 0.4121 - acc: 0.8423 - val_loss: 0.4107 - val_acc: 0.8525\n",
      "Epoch 36/50\n",
      "241/241 [==============================] - 1s 3ms/step - loss: 0.4092 - acc: 0.8506 - val_loss: 0.4098 - val_acc: 0.8525\n",
      "Epoch 37/50\n",
      "241/241 [==============================] - 1s 3ms/step - loss: 0.4071 - acc: 0.8506 - val_loss: 0.4097 - val_acc: 0.8525\n",
      "Epoch 38/50\n",
      "241/241 [==============================] - 1s 2ms/step - loss: 0.4049 - acc: 0.8548 - val_loss: 0.4103 - val_acc: 0.8525\n",
      "Epoch 39/50\n",
      "241/241 [==============================] - 1s 3ms/step - loss: 0.4018 - acc: 0.8506 - val_loss: 0.4115 - val_acc: 0.8525\n",
      "Epoch 40/50\n",
      "241/241 [==============================] - 1s 3ms/step - loss: 0.4002 - acc: 0.8631 - val_loss: 0.4121 - val_acc: 0.8525\n",
      "Epoch 41/50\n",
      "241/241 [==============================] - 1s 3ms/step - loss: 0.3983 - acc: 0.8631 - val_loss: 0.4129 - val_acc: 0.8525\n",
      "Epoch 42/50\n",
      "241/241 [==============================] - 1s 3ms/step - loss: 0.3964 - acc: 0.8631 - val_loss: 0.4127 - val_acc: 0.8689\n",
      "Epoch 43/50\n",
      "241/241 [==============================] - 1s 2ms/step - loss: 0.3950 - acc: 0.8631 - val_loss: 0.4124 - val_acc: 0.8689\n",
      "Epoch 44/50\n",
      "241/241 [==============================] - 1s 3ms/step - loss: 0.3931 - acc: 0.8672 - val_loss: 0.4126 - val_acc: 0.8689\n",
      "Epoch 45/50\n",
      "241/241 [==============================] - 1s 3ms/step - loss: 0.3919 - acc: 0.8672 - val_loss: 0.4123 - val_acc: 0.8852\n",
      "Epoch 46/50\n",
      "241/241 [==============================] - 1s 3ms/step - loss: 0.3905 - acc: 0.8589 - val_loss: 0.4118 - val_acc: 0.8852\n",
      "Epoch 47/50\n",
      "241/241 [==============================] - 1s 4ms/step - loss: 0.3900 - acc: 0.8631 - val_loss: 0.4123 - val_acc: 0.8852\n",
      "Epoch 48/50\n",
      "241/241 [==============================] - 1s 3ms/step - loss: 0.3893 - acc: 0.8589 - val_loss: 0.4108 - val_acc: 0.8852\n",
      "Epoch 49/50\n",
      "241/241 [==============================] - 1s 3ms/step - loss: 0.3882 - acc: 0.8631 - val_loss: 0.4097 - val_acc: 0.8852\n",
      "Epoch 50/50\n",
      "241/241 [==============================] - 1s 3ms/step - loss: 0.3872 - acc: 0.8548 - val_loss: 0.4091 - val_acc: 0.8852\n"
     ]
    }
   ],
   "source": [
    "history = model.fit(x_train, y_train, epochs=50,batch_size=1, callbacks=[callback],validation_data=(x_test,y_test),verbose=1)"
   ]
  },
  {
   "cell_type": "code",
   "execution_count": 300,
   "metadata": {},
   "outputs": [],
   "source": [
    "import matplotlib.pyplot as plt"
   ]
  },
  {
   "cell_type": "code",
   "execution_count": 301,
   "metadata": {},
   "outputs": [
    {
     "name": "stdout",
     "output_type": "stream",
     "text": [
      "dict_keys(['loss', 'acc', 'val_loss', 'val_acc'])\n"
     ]
    },
    {
     "data": {
      "image/png": "[encoded data removed]",
      "text/plain": [
       "<Figure size 2000x800 with 1 Axes>"
      ]
     },
     "metadata": {},
     "output_type": "display_data"
    },
    {
     "data": {
      "image/png": "[encoded data removed]",
      "text/plain": [
       "<Figure size 2000x800 with 1 Axes>"
      ]
     },
     "metadata": {},
     "output_type": "display_data"
    }
   ],
   "source": [
    "# DISPLAYING MODEL TRAINING HISTORY\n",
    "\n",
    "# list all data in history\n",
    "print(history.history.keys())\n",
    "\n",
    "# summarize history for accuracy\n",
    "plt.figure(figsize=(20,8))\n",
    "plt.plot(history.history['acc'])\n",
    "plt.plot(history.history['val_acc'])\n",
    "plt.title('model accuracy')\n",
    "plt.ylabel('accuracy')\n",
    "plt.xlabel('epoch')\n",
    "plt.legend(['train', 'test'], loc='upper left')\n",
    "plt.show()\n",
    "\n",
    "# summarize history for loss\n",
    "plt.figure(figsize=(20,8))\n",
    "plt.plot(history.history['loss'])\n",
    "plt.plot(history.history['val_loss'])\n",
    "plt.title('model loss')\n",
    "plt.ylabel('loss')\n",
    "plt.xlabel('epoch')\n",
    "plt.legend(['train', 'test'], loc='upper left')\n",
    "plt.show()"
   ]
  },
  {
   "cell_type": "code",
   "execution_count": 302,
   "metadata": {},
   "outputs": [
    {
     "name": "stdout",
     "output_type": "stream",
     "text": [
      "2/2 [==============================] - 0s 6ms/step - loss: 0.4091 - acc: 0.8852\n",
      "Test loss: 40.913450717926025 %\n",
      "Test Accuracy: 88.52459192276001 %\n"
     ]
    }
   ],
   "source": [
    "# Evaluate the model on test dataset\n",
    "loss, acc = model.evaluate(x_test,y_test,verbose=1)\n",
    "print(f'Test loss: {loss*100} %')\n",
    "print(f'Test Accuracy: {acc*100} %')"
   ]
  },
  {
   "cell_type": "code",
   "execution_count": 305,
   "metadata": {},
   "outputs": [
    {
     "name": "stdout",
     "output_type": "stream",
     "text": [
      "2/2 [==============================] - 0s 4ms/step\n"
     ]
    }
   ],
   "source": [
    "pred_test = model.predict(x_test)\n",
    "for i in range (len(pred_test)):\n",
    "    if (pred_test[i] < 0.5):\n",
    "        pred_test[i] = 0\n",
    "    else:\n",
    "        pred_test[i] = 1\n",
    "pred_test = pred_test.astype(int)\n"
   ]
  },
  {
   "cell_type": "code",
   "execution_count": 306,
   "metadata": {},
   "outputs": [
    {
     "name": "stdout",
     "output_type": "stream",
     "text": [
      "PREDICTED : \n",
      "Disease detacted\n",
      "No Disease\n",
      "No Disease\n",
      "No Disease\n",
      "Disease detacted\n",
      "Disease detacted\n",
      "Disease detacted\n",
      "Disease detacted\n",
      "Disease detacted\n",
      "Disease detacted\n",
      "\n",
      "\n",
      "ACTUAL : \n",
      "Disease detacted\n",
      "No Disease\n",
      "No Disease\n",
      "No Disease\n",
      "Disease detacted\n",
      "Disease detacted\n",
      "Disease detacted\n",
      "Disease detacted\n",
      "Disease detacted\n",
      "Disease detacted\n"
     ]
    }
   ],
   "source": [
    "import numpy as np  \n",
    "def view_result(array):\n",
    "    array = np.array(array)\n",
    "    for i in range(len(array)):\n",
    "        if array[i] == 0:\n",
    "            print(\"No Disease\")\n",
    "        else:\n",
    "            print(\"Disease detacted\")\n",
    "\n",
    "print(\"PREDICTED : \")\n",
    "view_result(pred_test[:10])\n",
    "print(\"\\n\")\n",
    "print(\"ACTUAL : \")\n",
    "view_result(y_test[:10])"
   ]
  },
  {
   "cell_type": "code",
   "execution_count": 307,
   "metadata": {},
   "outputs": [
    {
     "name": "stderr",
     "output_type": "stream",
     "text": [
      "c:\\Users\\Aman\\AppData\\Local\\Programs\\Python\\Python310\\lib\\site-packages\\keras\\src\\engine\\training.py:3103: UserWarning: You are saving your model as an HDF5 file via `model.save()`. This file format is considered legacy. We recommend using instead the native Keras format, e.g. `model.save('my_model.keras')`.\n",
      "  saving_api.save_model(\n"
     ]
    }
   ],
   "source": [
    "model.save(\"./Data/Prediction_model.h5\")"
   ]
  },
  {
   "cell_type": "code",
   "execution_count": 393,
   "metadata": {},
   "outputs": [
    {
     "name": "stdout",
     "output_type": "stream",
     "text": [
      "1/1 [==============================] - 0s 50ms/step\n",
      "[[4.750766e-11]]\n",
      "No Desease\n"
     ]
    },
    {
     "data": {
      "text/html": [
       "<div>\n",
       "<style scoped>\n",
       "    .dataframe tbody tr th:only-of-type {\n",
       "        vertical-align: middle;\n",
       "    }\n",
       "\n",
       "    .dataframe tbody tr th {\n",
       "        vertical-align: top;\n",
       "    }\n",
       "\n",
       "    .dataframe thead th {\n",
       "        text-align: right;\n",
       "    }\n",
       "</style>\n",
       "<table border=\"1\" class=\"dataframe\">\n",
       "  <thead>\n",
       "    <tr style=\"text-align: right;\">\n",
       "      <th></th>\n",
       "      <th>age</th>\n",
       "      <th>sex</th>\n",
       "      <th>cp</th>\n",
       "      <th>trestbps</th>\n",
       "      <th>chol</th>\n",
       "      <th>fbs</th>\n",
       "      <th>restecg</th>\n",
       "      <th>thalach</th>\n",
       "      <th>exang</th>\n",
       "      <th>oldpeak</th>\n",
       "      <th>slope</th>\n",
       "      <th>ca</th>\n",
       "      <th>thal</th>\n",
       "      <th>target</th>\n",
       "    </tr>\n",
       "  </thead>\n",
       "  <tbody>\n",
       "    <tr>\n",
       "      <th>237</th>\n",
       "      <td>57</td>\n",
       "      <td>1</td>\n",
       "      <td>1</td>\n",
       "      <td>124</td>\n",
       "      <td>261</td>\n",
       "      <td>0</td>\n",
       "      <td>1</td>\n",
       "      <td>141</td>\n",
       "      <td>0</td>\n",
       "      <td>0.3</td>\n",
       "      <td>2</td>\n",
       "      <td>0</td>\n",
       "      <td>3</td>\n",
       "      <td>0</td>\n",
       "    </tr>\n",
       "  </tbody>\n",
       "</table>\n",
       "</div>"
      ],
      "text/plain": [
       "     age  sex  cp  trestbps  chol  fbs  restecg  thalach  exang  oldpeak  \\\n",
       "237   57    1   1       124   261    0        1      141      0      0.3   \n",
       "\n",
       "     slope  ca  thal  target  \n",
       "237      2   0     3       0  "
      ]
     },
     "execution_count": 393,
     "metadata": {},
     "output_type": "execute_result"
    }
   ],
   "source": [
    "x = df2.sample()\n",
    "\n",
    "s = model.predict(x.drop(\"target\",axis=1))\n",
    "print(s)\n",
    "if s < 0.5:\n",
    "    print(\"No Desease\")\n",
    "else:\n",
    "    print(\"Deasease Detacted\")\n",
    "x"
   ]
  },
  {
   "cell_type": "code",
   "execution_count": 407,
   "metadata": {},
   "outputs": [
    {
     "name": "stdout",
     "output_type": "stream",
     "text": [
      "1/1 [==============================] - 0s 26ms/step\n",
      "[[0.800677]]\n",
      "Deasease Detacted\n"
     ]
    },
    {
     "data": {
      "text/html": [
       "<div>\n",
       "<style scoped>\n",
       "    .dataframe tbody tr th:only-of-type {\n",
       "        vertical-align: middle;\n",
       "    }\n",
       "\n",
       "    .dataframe tbody tr th {\n",
       "        vertical-align: top;\n",
       "    }\n",
       "\n",
       "    .dataframe thead th {\n",
       "        text-align: right;\n",
       "    }\n",
       "</style>\n",
       "<table border=\"1\" class=\"dataframe\">\n",
       "  <thead>\n",
       "    <tr style=\"text-align: right;\">\n",
       "      <th></th>\n",
       "      <th>age</th>\n",
       "      <th>sex</th>\n",
       "      <th>cp</th>\n",
       "      <th>trestbps</th>\n",
       "      <th>chol</th>\n",
       "      <th>fbs</th>\n",
       "      <th>restecg</th>\n",
       "      <th>thalach</th>\n",
       "      <th>exang</th>\n",
       "      <th>oldpeak</th>\n",
       "      <th>slope</th>\n",
       "      <th>ca</th>\n",
       "      <th>thal</th>\n",
       "      <th>target</th>\n",
       "    </tr>\n",
       "  </thead>\n",
       "  <tbody>\n",
       "    <tr>\n",
       "      <th>24</th>\n",
       "      <td>42</td>\n",
       "      <td>0</td>\n",
       "      <td>2</td>\n",
       "      <td>120</td>\n",
       "      <td>209</td>\n",
       "      <td>0</td>\n",
       "      <td>1</td>\n",
       "      <td>173</td>\n",
       "      <td>0</td>\n",
       "      <td>0.0</td>\n",
       "      <td>1</td>\n",
       "      <td>0</td>\n",
       "      <td>2</td>\n",
       "      <td>1</td>\n",
       "    </tr>\n",
       "  </tbody>\n",
       "</table>\n",
       "</div>"
      ],
      "text/plain": [
       "    age  sex  cp  trestbps  chol  fbs  restecg  thalach  exang  oldpeak  \\\n",
       "24   42    0   2       120   209    0        1      173      0      0.0   \n",
       "\n",
       "    slope  ca  thal  target  \n",
       "24      1   0     2       1  "
      ]
     },
     "execution_count": 407,
     "metadata": {},
     "output_type": "execute_result"
    }
   ],
   "source": [
    "x = df2.sample()\n",
    "s = model.predict(x.drop(\"target\",axis=1))\n",
    "print(s)\n",
    "if s < 0.5:\n",
    "    print(\"No Desease\")\n",
    "else:\n",
    "    print(\"Deasease Detacted\")\n",
    "x"
   ]
  },
  {
   "cell_type": "code",
   "execution_count": null,
   "metadata": {},
   "outputs": [],
   "source": []
  },
  {
   "cell_type": "code",
   "execution_count": null,
   "metadata": {},
   "outputs": [],
   "source": []
  },
  {
   "cell_type": "code",
   "execution_count": null,
   "metadata": {},
   "outputs": [],
   "source": []
  }
 ],
 "metadata": {
  "kernelspec": {
   "display_name": ".venv",
   "language": "python",
   "name": "python3"
  },
  "language_info": {
   "codemirror_mode": {
    "name": "ipython",
    "version": 3
   },
   "file_extension": ".py",
   "mimetype": "text/x-python",
   "name": "python",
   "nbconvert_exporter": "python",
   "pygments_lexer": "ipython3",
   "version": "3.10.0"
  }
 },
 "nbformat": 4,
 "nbformat_minor": 2
}
